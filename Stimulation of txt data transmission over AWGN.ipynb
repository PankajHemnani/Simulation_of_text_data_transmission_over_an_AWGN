{
  "nbformat": 4,
  "nbformat_minor": 0,
  "metadata": {
    "colab": {
      "provenance": [],
      "authorship_tag": "ABX9TyP3SXeiw+TiOvovIHmdgiIi",
      "include_colab_link": true
    },
    "kernelspec": {
      "name": "python3",
      "display_name": "Python 3"
    },
    "language_info": {
      "name": "python"
    }
  },
  "cells": [
    {
      "cell_type": "markdown",
      "metadata": {
        "id": "view-in-github",
        "colab_type": "text"
      },
      "source": [
        "<a href=\"https://colab.research.google.com/github/PankajHemnani/Simulation_of_text_data_transmission_over_an_AWGN/blob/main/Stimulation%20of%20txt%20data%20transmission%20over%20AWGN.ipynb\" target=\"_parent\"><img src=\"https://colab.research.google.com/assets/colab-badge.svg\" alt=\"Open In Colab\"/></a>"
      ]
    },
    {
      "cell_type": "code",
      "execution_count": 2,
      "metadata": {
        "id": "jIbHvJ4rpQxQ"
      },
      "outputs": [],
      "source": [
        "import numpy as np\n",
        "import matplotlib.pyplot as plt"
      ]
    },
    {
      "cell_type": "code",
      "source": [
        "def v_xor(bit0,bit1):\n",
        "    if(bit0==bit1):\n",
        "        return '0'\n",
        "    else:\n",
        "        return '1'"
      ],
      "metadata": {
        "id": "1jmWTyULp8Kz"
      },
      "execution_count": 3,
      "outputs": []
    },
    {
      "cell_type": "code",
      "source": [
        "TextToBeEncoded = '''Essentially, we assist early-stage entrepreneurs in transforming their ideas from concept to commercialization. By providing low-cost work spaces, solid technical infrastructure, and coaching, we contribute significant value to companies during the ideation and product development phases. In addition to this, we assist entrepreneurs who aim to solve global challenges, with a special focus on firms from the Himalayan region. We have a soft spot for social impact startups as well. Open to all budding startups and innovators from across the country, we invite you to leverage the support provided by Catalyst and Startup in Hills!'''"
      ],
      "metadata": {
        "id": "LrY5wkGBpXGz"
      },
      "execution_count": 4,
      "outputs": []
    },
    {
      "cell_type": "code",
      "source": [
        "distinct=[]\n",
        "list1=[]\n",
        "list_dec=[]\n",
        "for i in TextToBeEncoded:\n",
        "    if i not in distinct:\n",
        "        distinct.append(i)\n",
        "    else:\n",
        "        pass\n",
        "\n",
        "for i in distinct:\n",
        "    n=TextToBeEncoded.count(i)\n",
        "    t=(i,n)\n",
        "    list1.append(t)\n",
        "# print(list1)\n",
        "\n",
        "list_sorted=sorted(list1, key=lambda y : y[1])\n",
        "\n",
        "a=len(list1)\n",
        "for i in range(a):       # Reversing the list to arrange in Decreasing order of no of occurence\n",
        "    list_dec.append(list_sorted[a-i-1])\n",
        "\n",
        "#print('\\n\\n----------------- FIXED LENGTH ENCODING PART-------------------------------------------------------------')\n",
        "# print(\"\\n\\nFixed length Coding\")\n",
        "index=0\n",
        "Encode={}                              #Blank Dictionary\n",
        "grey=''\n",
        "\n",
        "for i in list_dec:                   #Encoding dictionary: Assigns 5 bit binary to each character in the text\n",
        "    index+=1\n",
        "    binary='{0:06b}'.format(index)\n",
        "    Encode.update({i[0]:binary})\n",
        "# for i in Encode:\n",
        "    # print(i,Encode[i])\n",
        "    \n",
        "    #print(f'{i[0]}     \\t\\t{binary}     \\t\\t{grey}')\n",
        "# print(Encode)     #------->Uncomment to see the codes\n",
        "CodedWord = ''\n",
        "# print(\"\\nCoded bits are---->\")\n",
        "for i in TextToBeEncoded:                                     # Encoding is done for the given string\n",
        "    CodedWord = CodedWord + Encode.get(i)       \n",
        "    \n",
        "# print(CodedWord)\n",
        "\n"
      ],
      "metadata": {
        "id": "aRBVnMZcpYlr"
      },
      "execution_count": 5,
      "outputs": []
    },
    {
      "cell_type": "code",
      "source": [
        "def hamming_distance(x, y):\n",
        "    # determines hamming distancer between symbol x and symbol y \n",
        "    count = 0\n",
        "    # assunption, x and y of same length\n",
        "    for i in range(len(x)):\n",
        "        if x[i] != y[i]:\n",
        "            count += 1\n",
        "    return count\n",
        "  \n",
        "def viterbi_decoder(code):\n",
        "    result = ''\n",
        "    A=''\n",
        "    segmented_code=[]\n",
        "    for i in range(0,len(code),2):\n",
        "        A=A+str(code[i])+str(code[i+1])\n",
        "        segmented_code.append(A)    \n",
        "        A=''\n",
        "    in_out_dict= {\n",
        "        ('00', '00') : '00',\n",
        "        ('00', '01') : '11',\n",
        "        ('01', '10') : '10',\n",
        "        ('01', '11') : '01',\n",
        "        ('10', '00') : '10',\n",
        "        ('10', '01') : '00',\n",
        "        ('11', '10') : '01',\n",
        "        ('11', '11') : '10',\n",
        "    }\n",
        "    all_possible_next_states = {\n",
        "    '00' : ('00', '01'),\n",
        "    '01' : ('10', '11'),\n",
        "    '10' : ('00', '01'),\n",
        "    '11' : ('10', '11')\n",
        "    }\n",
        "    first_state = '00'\n",
        "    current_state = first_state\n",
        "    for in_state in segmented_code:\n",
        "        next_states = all_possible_next_states[current_state] # tupple of next possible states\n",
        "        dist = [0, 0] # for storing hamming distance from next state to input_state\n",
        "        for i in range(len(next_states)):\n",
        "            # dist[i] = hamming_distance(in_state, next_states[i])\n",
        "            dist[i] = hamming_distance(in_state, in_out_dict.get((current_state, next_states[i])))\n",
        "\n",
        "        bit = str(np.argmin(dist)) # finds the correspoonding bit for the path with min hamming distance\n",
        "        result = result + bit\n",
        "        current_state = next_states[int(bit)] # saves the next current state for propagation in trellis diagram\n",
        "    return result"
      ],
      "metadata": {
        "id": "TE04s0KmrlZM"
      },
      "execution_count": 6,
      "outputs": []
    },
    {
      "cell_type": "code",
      "source": [
        "\n",
        "def viterbi_encoder(inputs):\n",
        "    \n",
        "    #shift register encoder\n",
        "    s_reg = ['0','0','0']\n",
        "    obs = []\n",
        "    for i in range(len(inputs)):\n",
        "        #shifting the bits to right\n",
        "        s_reg[2]=s_reg[1]\n",
        "        s_reg[1]=s_reg[0]\n",
        "        #inserting input\n",
        "        s_reg[0]= inputs[i]\n",
        "        state = s_reg[0]+ s_reg[1]\n",
        "        #encoded bits\n",
        "        thisState = v_xor(v_xor(s_reg[0],s_reg[1]),s_reg[2])+ v_xor(s_reg[0],s_reg[2])\n",
        "        obs.append(thisState)\n",
        "       \n",
        "        output = ''\n",
        "        for sym in obs:\n",
        "            output = output + sym\n",
        "    return output\n",
        "    \n",
        "ChannelEncoded = viterbi_encoder(CodedWord)\n",
        "# print(f'Channel encoded signal ->\\n{ChannelEncoded}')"
      ],
      "metadata": {
        "id": "nY66P51Dpv5k"
      },
      "execution_count": 7,
      "outputs": []
    },
    {
      "cell_type": "code",
      "source": [
        "binbits=np.array([])\n",
        "for i in ChannelEncoded:\n",
        "  binbits=np.append(binbits,int(i))\n",
        "\n",
        "bpskout = 2*binbits-1"
      ],
      "metadata": {
        "id": "QtsvNpbfqB1C"
      },
      "execution_count": 8,
      "outputs": []
    },
    {
      "cell_type": "code",
      "source": [
        "x=np.arange(0.1,1,0.0025)\n",
        "wrong=[]\n",
        "\n",
        "for sd in x:\n",
        "  AWGN = np.random.normal(0,sd,len(binbits)) \n",
        "  Txbits = bpskout\n",
        "  Rxbits = Txbits + AWGN\n",
        "\n",
        "  Sxbits=[]\n",
        "  for i in Rxbits:\n",
        "    if(i<=0):\n",
        "      Sxbits.append(0)\n",
        "    else:\n",
        "      Sxbits.append(1)\n",
        "  demodulated_data = ''.join([str(i) for i in Sxbits])\n",
        "  channel_decoded = viterbi_decoder(demodulated_data)\n",
        "  Decode = {value:key for key, value in Encode.items()}\n",
        "  result = ''\n",
        "  for i in range(0, len(channel_decoded), 6):\n",
        "      symbol = channel_decoded[i:i+6]\n",
        "      result = result + Decode.get(symbol, '#')\n",
        "  Wrongdetection = 0\n",
        "  for i in range(len(result)):\n",
        "    if(TextToBeEncoded[i]!=result[i]):\n",
        "      Wrongdetection += 1\n",
        "  wrong.append(Wrongdetection/len(result)*100)\n",
        "\n"
      ],
      "metadata": {
        "id": "fbbEvYbNqE4d"
      },
      "execution_count": 11,
      "outputs": []
    },
    {
      "cell_type": "code",
      "source": [
        "# print(\"Input text: \",TextToBeEncoded)\n",
        "# print(\"Output text: \",Decode)\n",
        "plt.plot(x,wrong)\n",
        "plt.xlabel(\"Standard Deviation\")\n",
        "plt.ylabel(\"Percentage of wrong detection\")\n",
        "plt.show()"
      ],
      "metadata": {
        "colab": {
          "base_uri": "https://localhost:8080/",
          "height": 279
        },
        "id": "6atHEJ7sqI0T",
        "outputId": "1b7bdf02-c5ad-41ed-94dc-243803d1118c"
      },
      "execution_count": 10,
      "outputs": [
        {
          "output_type": "display_data",
          "data": {
            "text/plain": [
              "<Figure size 432x288 with 1 Axes>"
            ],
            "image/png": "[encoded data removed]"
          },
          "metadata": {
            "needs_background": "light"
          }
        }
      ]
    }
  ]
}